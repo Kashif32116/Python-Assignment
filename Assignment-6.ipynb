{
 "cells": [
  {
   "cell_type": "markdown",
   "metadata": {},
   "source": [
    "Q1 Define Object Oriented Programming Language?\n",
    "\n",
    "Object Oriented Programming is a way of computer programming using the idea of “objects” to represents data and methods. It is also, an approach used for creating neat and reusable code instead of a redundant one. \n",
    "\n",
    "  Q2 List down the Benefits of OOP?:\n",
    "  \n",
    "1.\tCode reuse\n",
    "2.\tData encapsulation\n",
    "3.\tVery good for GUI applications\n",
    "4.\tEasy to build real-world applications\n",
    "5.\tEasy to maintain a software\n",
    "\n",
    "             Q3 Differentiate between function and method?\n",
    "\n",
    "Difference between method and function\n",
    "Simply, function and method both look similar as they perform in almost similar way, but the key difference is the concept of ‘Class and its Object‘.\n",
    "Functions can be called only by its name, as it is defined independently. But methods can’t be called by its name only, we need to invoke the class by a reference of that class in which it is defined, i.e. method is defined within a class and hence they are dependent on that class.\n",
    "\n",
    "Q4  Define the following terms: \n",
    "\n",
    "1. Class \n",
    "2. Object \n",
    "3. Attribute \n",
    "4. Behavior\n",
    "\n",
    "\n",
    "       Class:\n",
    "It is a template or blue print about the capability of what an object can do.\n",
    "\n",
    "       Object:\n",
    "It’s the instance of a class/ it’s the working entity of a class.\n",
    "\n",
    "                                          Attribute:\n",
    "In Object-oriented programming(OOP), classes and objects have attributes. Attributes are data stored inside a class or instance and represent the state or quality of the class or instance. In short, attributes store information about the instance.\n",
    "\n",
    "                                          Behavior:\n",
    "The behavior of an object is defined by its methods, which are the functions and subroutines defined within the object class. ... Methods determine what type of functionality a class has, how it modifies its data, and its overall behavior\n"
   ]
  }
 ],
 "metadata": {
  "kernelspec": {
   "display_name": "Python [default]",
   "language": "python",
   "name": "python3"
  },
  "language_info": {
   "codemirror_mode": {
    "name": "ipython",
    "version": 3
   },
   "file_extension": ".py",
   "mimetype": "text/x-python",
   "name": "python",
   "nbconvert_exporter": "python",
   "pygments_lexer": "ipython3",
   "version": "3.5.2"
  }
 },
 "nbformat": 4,
 "nbformat_minor": 1
}

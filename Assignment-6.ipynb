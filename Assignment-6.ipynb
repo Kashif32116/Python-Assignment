{
 "cells": [
  {
   "cell_type": "markdown",
   "metadata": {},
   "source": [
    "Q1 Define Object Oriented Programming Language?\n",
    "\n",
    "Object Oriented Programming is a way of computer programming using the idea of “objects” to represents data and methods. It is also, an approach used for creating neat and reusable code instead of a redundant one.\n",
    "\n",
    "Q2 List down the Benefits of OOP?:\n",
    "\n",
    "Code reuse\n",
    "Data encapsulation\n",
    "Very good for GUI applications\n",
    "Easy to build real-world applications\n",
    "Easy to maintain a software\n",
    "\n",
    "   Q3 Differentiate between function and method?\n",
    "Difference between method and function Simply, function and method both look similar as they perform in almost similar way, but the key difference is the concept of ‘Class and its Object‘. Functions can be called only by its name, as it is defined independently. But methods can’t be called by its name only, we need to invoke the class by a reference of that class in which it is defined, i.e. method is defined within a class and hence they are dependent on that class.\n",
    "\n",
    "Q4 Define the following terms:\n",
    "\n",
    "Class\n",
    "Object\n",
    "Attribute\n",
    "Behavior\n",
    "   Class:\n",
    "It is a template or blue print about the capability of what an object can do.\n",
    "\n",
    "   Object:\n",
    "It’s the instance of a class/ it’s the working entity of a class.\n",
    "\n",
    "                                      Attribute:\n",
    "In Object-oriented programming(OOP), classes and objects have attributes. Attributes are data stored inside a class or instance and represent the state or quality of the class or instance. In short, attributes store information about the instance.\n",
    "\n",
    "                                      Behavior:\n",
    "The behavior of an object is defined by its methods, which are the functions and subroutines defined within the object class. ... Methods determine what type of functionality a class has, how it modifies its data, and its overall behavior"
   ]
  },
  {
   "cell_type": "markdown",
   "metadata": {},
   "source": [
    "Question:5\n",
    "Write a code in python in which create a class named it Car which have 5 attributes such like (model, color and name etc.) and 3 methods. And create 5 object instance from that class."
   ]
  },
  {
   "cell_type": "code",
   "execution_count": null,
   "metadata": {
    "collapsed": true
   },
   "outputs": [],
   "source": [
    "class car():\n",
    "    def __init__(self,model,color,name,pessenger,speed):\n",
    "        #Attributes\n",
    "        self.model=model\n",
    "        self.color=color\n",
    "        self.name=name\n",
    "        self.pessenger=pessenger\n",
    "        self.speed=speed\n",
    "    #methods\n",
    "    def accelration(self):\n",
    "        self.speed*=2\n",
    "    def newcolor(self,newcolor):\n",
    "        self.color=newcolor\n",
    "    def newmodel(self,newmodel):\n",
    "        self.model=newmodel\n",
    "        #print(self.speed)\n",
    "#i m using speed in int because of methos we can uodate just int values  \n",
    "#instances of object\n",
    "ferrari=car('2k19','Red','Ferrari',4,160)\n",
    "bmw=car('2k16','Blue','BMW',5,120)\n",
    "fortunre=car('2k17','Black','Fortunre',8,140)\n",
    "corola=car('2k15','Golden','Corola',5,110)\n",
    "suzuki=car('2k14','Silver','Mehran',5,100)\n",
    "\n",
    "print('Suzuki Name is',suzuki.name)\n",
    "print('Color of my BMW',bmw.color)\n",
    "print(fortunre.pessenger,'pessengers can sit in',fortunre.name)\n",
    "print('Old model of',corola.name,'is',corola.model)\n",
    "corola.newmodel('2k17')\n",
    "print('New model of',corola.name,'is',corola.model)\n",
    "print(ferrari.speed,'km/h Old Speed of',ferrari.name)\n",
    "ferrari.accelration()\n",
    "print(ferrari.speed,'New Speed of',ferrari.name)"
   ]
  }
 ],
 "metadata": {
  "anaconda-cloud": {},
  "kernelspec": {
   "display_name": "Python [default]",
   "language": "python",
   "name": "python3"
  },
  "language_info": {
   "codemirror_mode": {
    "name": "ipython",
    "version": 3
   },
   "file_extension": ".py",
   "mimetype": "text/x-python",
   "name": "python",
   "nbconvert_exporter": "python",
   "pygments_lexer": "ipython3",
   "version": "3.5.2"
  }
 },
 "nbformat": 4,
 "nbformat_minor": 1
}

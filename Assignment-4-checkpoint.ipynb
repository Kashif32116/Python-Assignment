{
 "cells": [
  {
   "cell_type": "code",
   "execution_count": 2,
   "metadata": {
    "collapsed": false
   },
   "outputs": [
    {
     "name": "stdout",
     "output_type": "stream",
     "text": [
      "Original Dictionary\n",
      "\n",
      "{'age': 21, 'city': 'Karachi', 'first_name': 'Kashif', 'last_name': 'Mehmood'} \n",
      "\n",
      "\n",
      "Enter your Qualification: Intermediate\n",
      "\n",
      "Dictionary after add new key\n",
      "\n",
      "\n",
      " {'Qualification': 'Intermediate', 'age': 21, 'city': 'Karachi', 'first_name': 'Kashif', 'last_name': 'Mehmood'}\n",
      "\n",
      "Enter your Higher Academic Level: Bscs\n",
      "\n",
      "Dictionary after update\n",
      "\n",
      "\n",
      " {'Qualification': 'Bscs', 'age': 21, 'city': 'Karachi', 'first_name': 'Kashif', 'last_name': 'Mehmood'}\n",
      "\n",
      "Dictionary after delete\n",
      "\n",
      "\n",
      " {'age': 21, 'city': 'Karachi', 'first_name': 'Kashif', 'last_name': 'Mehmood'}\n"
     ]
    }
   ],
   "source": [
    "print(\"Original Dictionary\\n\")\n",
    "person = {\n",
    "    \"first_name\": \"Kashif\",\n",
    "    \"last_name\": \"Mehmood\",\n",
    "    \"age\": 21,\n",
    "    \"city\": \"Karachi\"\n",
    "}\n",
    "print(person,\"\\n\")\n",
    "add = input(\"\\nEnter your Qualification: \")\n",
    "person[\"Qualification\"] = add\n",
    "print(\"\\nDictionary after add new key\\n\")\n",
    "print(\"\\n\",person)\n",
    "update = input(\"\\nEnter your Higher Academic Level: \")\n",
    "person[\"Qualification\"] = update\n",
    "print(\"\\nDictionary after update\\n\")\n",
    "print(\"\\n\",person)\n",
    "del person[\"Qualification\"]\n",
    "print(\"\\nDictionary after delete\\n\")\n",
    "print(\"\\n\",person)\n"
   ]
  },
  {
   "cell_type": "code",
   "execution_count": 3,
   "metadata": {
    "collapsed": false
   },
   "outputs": [
    {
     "name": "stdout",
     "output_type": "stream",
     "text": [
      "The City's Name:  Moscow\n",
      "The Information:  {'Country': 'Russia', 'Population': '11.92 million', 'Fact': 'Unconquered City'} \n",
      "\n",
      "The City's Name:  Karachi\n",
      "The Information:  {'Country': 'Pakistan', 'Population': '14.91 million', 'Fact': 'Largest city of Pakistan'} \n",
      "\n",
      "The City's Name:  Paris\n",
      "The Information:  {'Country': 'French', 'Population': '2.141 million', 'Fact': 'city of Love'} \n",
      "\n"
     ]
    }
   ],
   "source": [
    "cities = {\n",
    "    \"Karachi\": {\n",
    "        \"Population\": \"14.91 million\",\n",
    "        \"Fact\": \"Largest city of Pakistan\",\n",
    "        \"Country\": \"Pakistan\"\n",
    "    },\n",
    "    \"Paris\": {\n",
    "        \"Population\": \"2.141 million\",\n",
    "        \"Fact\": \"city of Love\",\n",
    "        \"Country\": \"French\"\n",
    "    },\n",
    "    \"Moscow\": {\n",
    "        \"Population\": \"11.92 million\",\n",
    "        \"Fact\": \"Unconquered City\",\n",
    "        \"Country\": \"Russia\"\n",
    "    }\n",
    "}\n",
    "for key,value in cities.items():\n",
    "    print(\"The City's Name: \",key)\n",
    "    print(\"The Information: \",value,\"\\n\")\n"
   ]
  },
  {
   "cell_type": "code",
   "execution_count": 4,
   "metadata": {
    "collapsed": false
   },
   "outputs": [
    {
     "name": "stdout",
     "output_type": "stream",
     "text": [
      "Tell your Age: 24\n",
      "Your ticket's is $15\n",
      "Do you want to Continue Press y for Yes & Press any keys for exit: o\n",
      "Program is Terminate\n"
     ]
    }
   ],
   "source": [
    "repeat = 'y'\n",
    "while repeat == 'y':\n",
    "    age = int(input(\"Tell your Age: \"))\n",
    "    if age < 3:\n",
    "        print(\"Your ticket's price is Free\")\n",
    "    elif age >= 3 and age <= 12:\n",
    "        print(\"Your ticket's price is $10\")\n",
    "    elif age > 12:\n",
    "        print(\"Your ticket's is $15\")\n",
    "    else:\n",
    "        print(\"Invalid Input\")\n",
    "    repeat = input(\"Do you want to Continue Press y for Yes & Press any keys for exit: \")\n",
    "    if repeat != 'y':\n",
    "        print(\"Program is Terminate\")"
   ]
  },
  {
   "cell_type": "code",
   "execution_count": 5,
   "metadata": {
    "collapsed": false
   },
   "outputs": [
    {
     "name": "stdout",
     "output_type": "stream",
     "text": [
      "Enter the Book's titleJannat Ke Pattay\n",
      "One of my favorite books is  Jannat Ke Pattay\n"
     ]
    }
   ],
   "source": [
    "def favorite_book(book):\n",
    "    print(\"One of my favorite books is \",book)\n",
    "book = input(\"Enter the Book's title\")\n",
    "favorite_book(book)"
   ]
  },
  {
   "cell_type": "code",
   "execution_count": 6,
   "metadata": {
    "collapsed": false
   },
   "outputs": [
    {
     "name": "stdout",
     "output_type": "stream",
     "text": [
      "Enter the Guess Number: 1\n",
      "You Guess Lower Number\n",
      "Computer's Guess Number:  20\n",
      "Enter the Guess Number: 20\n",
      "You Guess Correct Number\n",
      "Computer's Guess Number:  20\n",
      "Enter the Guess Number: 7\n",
      "You Guess Lower Number\n",
      "Computer's Guess Number:  14\n"
     ]
    }
   ],
   "source": [
    "import random\n",
    "count = 0\n",
    "while count < 3:\n",
    "    guess = int(input(\"Enter the Guess Number: \"))\n",
    "    count += 1\n",
    "    rand = random.randint(1,30)\n",
    "    if guess == rand:\n",
    "        print(\"You Guess Correct Number\")\n",
    "    elif guess > rand:\n",
    "        print(\"You Guess Higher Number\")\n",
    "    elif guess < rand:\n",
    "        print(\"You Guess Lower Number\")\n",
    "    print(\"Computer's Guess Number: \",rand)\n"
   ]
  },
  {
   "cell_type": "code",
   "execution_count": null,
   "metadata": {
    "collapsed": true
   },
   "outputs": [],
   "source": []
  }
 ],
 "metadata": {
  "kernelspec": {
   "display_name": "Python [default]",
   "language": "python",
   "name": "python3"
  },
  "language_info": {
   "codemirror_mode": {
    "name": "ipython",
    "version": 3
   },
   "file_extension": ".py",
   "mimetype": "text/x-python",
   "name": "python",
   "nbconvert_exporter": "python",
   "pygments_lexer": "ipython3",
   "version": "3.5.2"
  }
 },
 "nbformat": 4,
 "nbformat_minor": 1
}
